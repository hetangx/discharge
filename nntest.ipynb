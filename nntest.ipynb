{
 "metadata": {
  "language_info": {
   "codemirror_mode": {
    "name": "ipython",
    "version": 3
   },
   "file_extension": ".py",
   "mimetype": "text/x-python",
   "name": "python",
   "nbconvert_exporter": "python",
   "pygments_lexer": "ipython3",
   "version": 3
  },
  "orig_nbformat": 2,
  "kernelspec": {
   "name": "python_defaultSpec_1595132565664",
   "display_name": "Python 3.8.1 64-bit ('base': conda)"
  }
 },
 "nbformat": 4,
 "nbformat_minor": 2,
 "cells": [
  {
   "cell_type": "code",
   "execution_count": 1,
   "metadata": {},
   "outputs": [],
   "source": [
    "import torch\n",
    "import torch.utils.data as Data\n",
    "import pandas as pd\n",
    "import os\n",
    "import numpy as np\n",
    "import matplotlib.pyplot as plt\n",
    "from torch.utils.data.dataloader import DataLoader\n",
    "from torch.autograd import Variable\n",
    "import torch.nn as nn\n",
    "import torch.nn.functional as F"
   ]
  },
  {
   "cell_type": "code",
   "execution_count": 2,
   "metadata": {},
   "outputs": [],
   "source": [
    "def ReadCSV(csvfile):\n",
    "    csv = pd.read_csv(csvfile, header=None)\n",
    "    csv = torch.from_numpy(csv.values)\n",
    "    return csv"
   ]
  },
  {
   "cell_type": "code",
   "execution_count": 3,
   "metadata": {
    "tags": []
   },
   "outputs": [
    {
     "output_type": "stream",
     "name": "stdout",
     "text": "torch.Size([80, 3])\n"
    }
   ],
   "source": [
    "csv_corona = ReadCSV(r\"D:\\Codes\\keyan\\peidian\\80x3.csv\")\n",
    "label = \"corona\"\n",
    "print(csv_corona.shape)"
   ]
  },
  {
   "cell_type": "code",
   "execution_count": 4,
   "metadata": {},
   "outputs": [
    {
     "output_type": "execute_result",
     "data": {
      "text/plain": "torch.Size([1, 3, 80])"
     },
     "metadata": {},
     "execution_count": 4
    }
   ],
   "source": [
    "csv_corona = csv_corona.unsqueeze(0).permute(0,2,1)\n",
    "csv_corona =csv_corona.float()\n",
    "csv_corona.shape"
   ]
  },
  {
   "cell_type": "code",
   "execution_count": 5,
   "metadata": {
    "tags": []
   },
   "outputs": [
    {
     "output_type": "execute_result",
     "data": {
      "text/plain": "torch.Size([1, 100, 71])"
     },
     "metadata": {},
     "execution_count": 5
    }
   ],
   "source": [
    "conv1 = nn.Conv1d(in_channels=3, out_channels=100,kernel_size=10)\n",
    "LRelu = nn.LeakyReLU()\n",
    "out1 = conv1(csv_corona)\n",
    "out1 = LRelu(out1)\n",
    "out1.shape"
   ]
  },
  {
   "cell_type": "code",
   "execution_count": 6,
   "metadata": {},
   "outputs": [
    {
     "output_type": "execute_result",
     "data": {
      "text/plain": "torch.Size([1, 100, 62])"
     },
     "metadata": {},
     "execution_count": 6
    }
   ],
   "source": [
    "conv2 = nn.Conv1d(in_channels=100, out_channels=100, kernel_size=10)\n",
    "out2 = conv2(out1)\n",
    "out2 = LRelu(out2)\n",
    "out2.shape"
   ]
  },
  {
   "cell_type": "code",
   "execution_count": 7,
   "metadata": {},
   "outputs": [
    {
     "output_type": "execute_result",
     "data": {
      "text/plain": "torch.Size([1, 100, 20])"
     },
     "metadata": {},
     "execution_count": 7
    }
   ],
   "source": [
    "maxpool1 = nn.MaxPool1d(3)\n",
    "out3 = maxpool1(out2)\n",
    "out3.shape"
   ]
  },
  {
   "cell_type": "code",
   "execution_count": 8,
   "metadata": {},
   "outputs": [
    {
     "output_type": "execute_result",
     "data": {
      "text/plain": "torch.Size([1, 160, 11])"
     },
     "metadata": {},
     "execution_count": 8
    }
   ],
   "source": [
    "conv3 = nn.Conv1d(in_channels=100, out_channels=160, kernel_size=10)\n",
    "out4 = conv3(out3)\n",
    "out4 = LRelu(out4)\n",
    "out4.shape"
   ]
  },
  {
   "cell_type": "code",
   "execution_count": 9,
   "metadata": {},
   "outputs": [
    {
     "output_type": "execute_result",
     "data": {
      "text/plain": "torch.Size([1, 160, 2])"
     },
     "metadata": {},
     "execution_count": 9
    }
   ],
   "source": [
    "conv4 = nn.Conv1d(in_channels=160, out_channels=160, kernel_size=10)\n",
    "out5 = conv4(out4)\n",
    "out5 = LRelu(out5)\n",
    "out5.shape"
   ]
  },
  {
   "cell_type": "code",
   "execution_count": 10,
   "metadata": {},
   "outputs": [
    {
     "output_type": "execute_result",
     "data": {
      "text/plain": "torch.Size([1, 160, 2])"
     },
     "metadata": {},
     "execution_count": 10
    }
   ],
   "source": [
    "avgpool = nn.AvgPool1d(2)\n",
    "out6 = avgpool(out5)"
   ]
  },
  {
   "cell_type": "code",
   "execution_count": 13,
   "metadata": {},
   "outputs": [
    {
     "output_type": "execute_result",
     "data": {
      "text/plain": "torch.Size([1, 160, 1])"
     },
     "metadata": {},
     "execution_count": 13
    }
   ],
   "source": [
    "dout = nn.Dropout(p=0.5)\n",
    "out7 = dout(out6)\n",
    "out7.shape"
   ]
  },
  {
   "cell_type": "code",
   "execution_count": 32,
   "metadata": {
    "tags": []
   },
   "outputs": [
    {
     "output_type": "stream",
     "name": "stdout",
     "text": "tensor([[[-3.7281e-01,  1.3647e+00, -2.6163e-03,  1.7717e+00, -2.9950e+00]]],\n       grad_fn=<AddBackward0>)\n"
    }
   ],
   "source": [
    "fc = nn.Linear(160, 5)\n",
    "out8 = fc(out7.permute(0,2,1))\n",
    "print(out8)"
   ]
  },
  {
   "cell_type": "code",
   "execution_count": 35,
   "metadata": {
    "tags": []
   },
   "outputs": [
    {
     "output_type": "stream",
     "name": "stdout",
     "text": "tensor([[[1., 1., 1., 1., 1.]]], grad_fn=<SoftmaxBackward>)\n"
    }
   ],
   "source": [
    "smax = nn.Softmax()\n",
    "out9 = smax(out8)\n",
    "print(out9)"
   ]
  },
  {
   "cell_type": "code",
   "execution_count": 21,
   "metadata": {
    "tags": []
   },
   "outputs": [
    {
     "output_type": "stream",
     "name": "stdout",
     "text": "tensor([[ 0.3300,  0.6291, -0.1977],\n        [ 1.8818, -0.0753,  1.1090]])\ntensor([[0.3403, 0.4589, 0.2008],\n        [0.6238, 0.0881, 0.2880]])\n"
    }
   ],
   "source": [
    "m = nn.Softmax()\n",
    "input = torch.randn(2,3)\n",
    "print(input)\n",
    "output = m(input)\n",
    "print(output)"
   ]
  },
  {
   "cell_type": "code",
   "execution_count": 25,
   "metadata": {},
   "outputs": [],
   "source": [
    "e = torch.exp(input)\n",
    "es = e.sum()"
   ]
  },
  {
   "cell_type": "code",
   "execution_count": 26,
   "metadata": {},
   "outputs": [
    {
     "output_type": "execute_result",
     "data": {
      "text/plain": "tensor([[1.3910, 1.8759, 0.8207],\n        [6.5655, 0.9275, 3.0315]])"
     },
     "metadata": {},
     "execution_count": 26
    }
   ],
   "source": [
    "e"
   ]
  },
  {
   "cell_type": "code",
   "execution_count": 28,
   "metadata": {},
   "outputs": [
    {
     "output_type": "execute_result",
     "data": {
      "text/plain": "tensor(14.6120)"
     },
     "metadata": {},
     "execution_count": 28
    }
   ],
   "source": [
    "es"
   ]
  },
  {
   "cell_type": "code",
   "execution_count": 36,
   "metadata": {},
   "outputs": [],
   "source": [
    "x = [-3.7281e-01,  1.3647e+00, -2.6163e-03,  1.7717e+00, -2.9950e+00]"
   ]
  },
  {
   "cell_type": "code",
   "execution_count": 37,
   "metadata": {},
   "outputs": [
    {
     "output_type": "execute_result",
     "data": {
      "text/plain": "[-0.37281, 1.3647, -0.0026163, 1.7717, -2.995]"
     },
     "metadata": {},
     "execution_count": 37
    }
   ],
   "source": []
  },
  {
   "cell_type": "code",
   "execution_count": 46,
   "metadata": {},
   "outputs": [],
   "source": [
    "labels = ('internal_discharge', 'corona_discharge', 'corona_discharge', 'internal_discharge')"
   ]
  },
  {
   "cell_type": "code",
   "execution_count": 47,
   "metadata": {
    "tags": []
   },
   "outputs": [
    {
     "output_type": "stream",
     "name": "stdout",
     "text": "['internal_discharge', 'corona_discharge', 'corona_discharge', 'internal_discharge']\n<class 'str'>\n"
    }
   ],
   "source": [
    "labels = list(labels)\n",
    "print(labels)\n",
    "print(type(labels[0][1]))"
   ]
  },
  {
   "cell_type": "code",
   "execution_count": 53,
   "metadata": {},
   "outputs": [
    {
     "output_type": "error",
     "ename": "TypeError",
     "evalue": "new(): invalid data type 'str'",
     "traceback": [
      "\u001b[1;31m---------------------------------------------------------------------------\u001b[0m",
      "\u001b[1;31mTypeError\u001b[0m                                 Traceback (most recent call last)",
      "\u001b[1;32m<ipython-input-53-e2ecf3bbffe1>\u001b[0m in \u001b[0;36m<module>\u001b[1;34m\u001b[0m\n\u001b[1;32m----> 1\u001b[1;33m \u001b[0mx\u001b[0m \u001b[1;33m=\u001b[0m \u001b[0mtorch\u001b[0m\u001b[1;33m.\u001b[0m\u001b[0mtensor\u001b[0m\u001b[1;33m(\u001b[0m\u001b[0mlabels\u001b[0m\u001b[1;33m[\u001b[0m\u001b[1;36m0\u001b[0m\u001b[1;33m]\u001b[0m\u001b[1;33m)\u001b[0m\u001b[1;33m\u001b[0m\u001b[1;33m\u001b[0m\u001b[0m\n\u001b[0m",
      "\u001b[1;31mTypeError\u001b[0m: new(): invalid data type 'str'"
     ]
    }
   ],
   "source": [
    "x = torch.tensor(labels[0])"
   ]
  },
  {
   "cell_type": "code",
   "execution_count": 54,
   "metadata": {},
   "outputs": [],
   "source": [
    "x = ('2', '2', '2', '2')"
   ]
  },
  {
   "cell_type": "code",
   "execution_count": 61,
   "metadata": {
    "tags": []
   },
   "outputs": [],
   "source": [
    "y = list(map(int, x))"
   ]
  },
  {
   "cell_type": "code",
   "execution_count": 63,
   "metadata": {
    "tags": []
   },
   "outputs": [
    {
     "output_type": "stream",
     "name": "stdout",
     "text": "tensor([2, 2, 2, 2])\n"
    }
   ],
   "source": [
    "z = torch.tensor(y)\n",
    "print(z)"
   ]
  },
  {
   "cell_type": "code",
   "execution_count": 65,
   "metadata": {
    "tags": []
   },
   "outputs": [],
   "source": [
    "def tuple2tensor_char(x):\n",
    "    return torch.tensor(list(map(int, x)))"
   ]
  },
  {
   "cell_type": "code",
   "execution_count": 67,
   "metadata": {
    "tags": []
   },
   "outputs": [
    {
     "output_type": "error",
     "ename": "ValueError",
     "evalue": "invalid literal for int() with base 10: 'internal_discharge'",
     "traceback": [
      "\u001b[1;31m---------------------------------------------------------------------------\u001b[0m",
      "\u001b[1;31mValueError\u001b[0m                                Traceback (most recent call last)",
      "\u001b[1;32m<ipython-input-67-8573f19905a4>\u001b[0m in \u001b[0;36m<module>\u001b[1;34m\u001b[0m\n\u001b[0;32m      1\u001b[0m \u001b[0mlabels\u001b[0m \u001b[1;33m=\u001b[0m \u001b[1;33m(\u001b[0m\u001b[1;34m'internal_discharge'\u001b[0m\u001b[1;33m,\u001b[0m \u001b[1;34m'corona_discharge'\u001b[0m\u001b[1;33m,\u001b[0m \u001b[1;34m'corona_discharge'\u001b[0m\u001b[1;33m,\u001b[0m \u001b[1;34m'internal_discharge'\u001b[0m\u001b[1;33m)\u001b[0m\u001b[1;33m\u001b[0m\u001b[1;33m\u001b[0m\u001b[0m\n\u001b[1;32m----> 2\u001b[1;33m \u001b[0mtuple2tensor_char\u001b[0m\u001b[1;33m(\u001b[0m\u001b[0mlabels\u001b[0m\u001b[1;33m)\u001b[0m\u001b[1;33m\u001b[0m\u001b[1;33m\u001b[0m\u001b[0m\n\u001b[0m",
      "\u001b[1;32m<ipython-input-65-efc8cf4ea0d5>\u001b[0m in \u001b[0;36mtuple2tensor_char\u001b[1;34m(x)\u001b[0m\n\u001b[0;32m      1\u001b[0m \u001b[1;32mdef\u001b[0m \u001b[0mtuple2tensor_char\u001b[0m\u001b[1;33m(\u001b[0m\u001b[0mx\u001b[0m\u001b[1;33m)\u001b[0m\u001b[1;33m:\u001b[0m\u001b[1;33m\u001b[0m\u001b[1;33m\u001b[0m\u001b[0m\n\u001b[1;32m----> 2\u001b[1;33m     \u001b[1;32mreturn\u001b[0m \u001b[0mtorch\u001b[0m\u001b[1;33m.\u001b[0m\u001b[0mtensor\u001b[0m\u001b[1;33m(\u001b[0m\u001b[0mlist\u001b[0m\u001b[1;33m(\u001b[0m\u001b[0mmap\u001b[0m\u001b[1;33m(\u001b[0m\u001b[0mint\u001b[0m\u001b[1;33m,\u001b[0m \u001b[0mx\u001b[0m\u001b[1;33m)\u001b[0m\u001b[1;33m)\u001b[0m\u001b[1;33m)\u001b[0m\u001b[1;33m\u001b[0m\u001b[1;33m\u001b[0m\u001b[0m\n\u001b[0m",
      "\u001b[1;31mValueError\u001b[0m: invalid literal for int() with base 10: 'internal_discharge'"
     ]
    }
   ],
   "source": []
  },
  {
   "cell_type": "code",
   "execution_count": null,
   "metadata": {},
   "outputs": [],
   "source": []
  }
 ]
}