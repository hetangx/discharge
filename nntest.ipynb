{
 "metadata": {
  "language_info": {
   "codemirror_mode": {
    "name": "ipython",
    "version": 3
   },
   "file_extension": ".py",
   "mimetype": "text/x-python",
   "name": "python",
   "nbconvert_exporter": "python",
   "pygments_lexer": "ipython3",
   "version": 3
  },
  "orig_nbformat": 2,
  "kernelspec": {
   "name": "python_defaultSpec_1595730402062",
   "display_name": "Python 3.8.1 64-bit ('base': conda)"
  }
 },
 "nbformat": 4,
 "nbformat_minor": 2,
 "cells": [
  {
   "cell_type": "code",
   "execution_count": 1,
   "metadata": {},
   "outputs": [],
   "source": [
    "import torch\n",
    "import torch.utils.data as Data\n",
    "import pandas as pd\n",
    "import os\n",
    "import numpy as np\n",
    "import matplotlib.pyplot as plt\n",
    "from torch.utils.data.dataloader import DataLoader\n",
    "from torch.autograd import Variable\n",
    "import torch.nn as nn\n",
    "import torch.nn.functional as F"
   ]
  },
  {
   "cell_type": "code",
   "execution_count": 2,
   "metadata": {},
   "outputs": [],
   "source": [
    "def ReadCSV(csvfile):\n",
    "    csv = pd.read_csv(csvfile, header=None)\n",
    "    csv = torch.from_numpy(csv.values).unsqueeze(0).permute(0,2,1).float()\n",
    "    return csv"
   ]
  },
  {
   "cell_type": "code",
   "execution_count": 3,
   "metadata": {},
   "outputs": [],
   "source": [
    "def t2n2f(t, filename):\n",
    "    n = t.squeeze(0).detach().numpy()\n",
    "    np.savetxt(filename, n)"
   ]
  },
  {
   "cell_type": "code",
   "execution_count": 4,
   "metadata": {
    "tags": []
   },
   "outputs": [
    {
     "output_type": "stream",
     "name": "stdout",
     "text": "torch.Size([1, 3, 400])\n"
    }
   ],
   "source": [
    "csv_corona = ReadCSV(r\"D:\\Codes\\keyan\\data\\corona_discharge\\t2.csv\")\n",
    "label = \"corona\"\n",
    "print(csv_corona.shape)"
   ]
  },
  {
   "cell_type": "code",
   "execution_count": 5,
   "metadata": {
    "tags": []
   },
   "outputs": [
    {
     "output_type": "execute_result",
     "data": {
      "text/plain": "torch.Size([1, 100, 391])"
     },
     "metadata": {},
     "execution_count": 5
    }
   ],
   "source": [
    "conv1 = nn.Conv1d(3, 100, 10)\n",
    "out = F.relu(conv1(csv_corona))\n",
    "out.shape"
   ]
  },
  {
   "cell_type": "code",
   "execution_count": 6,
   "metadata": {},
   "outputs": [],
   "source": [
    "pool1 = nn.MaxPool1d(3)\n",
    "out = pool1(out)"
   ]
  },
  {
   "cell_type": "code",
   "execution_count": 7,
   "metadata": {},
   "outputs": [
    {
     "output_type": "execute_result",
     "data": {
      "text/plain": "torch.Size([1, 100, 130])"
     },
     "metadata": {},
     "execution_count": 7
    }
   ],
   "source": [
    "out.shape"
   ]
  },
  {
   "cell_type": "code",
   "execution_count": 8,
   "metadata": {},
   "outputs": [
    {
     "output_type": "execute_result",
     "data": {
      "text/plain": "torch.Size([1, 100, 121])"
     },
     "metadata": {},
     "execution_count": 8
    }
   ],
   "source": [
    "conv2 = nn.Conv1d(100, 100, 10)\n",
    "out = F.relu(conv2(out))\n",
    "out.shape"
   ]
  },
  {
   "cell_type": "code",
   "execution_count": 9,
   "metadata": {},
   "outputs": [
    {
     "output_type": "execute_result",
     "data": {
      "text/plain": "torch.Size([1, 100, 40])"
     },
     "metadata": {},
     "execution_count": 9
    }
   ],
   "source": [
    "pool2 = nn.MaxPool1d(3)\n",
    "out = pool2(out)\n",
    "out.shape"
   ]
  },
  {
   "cell_type": "code",
   "execution_count": 10,
   "metadata": {},
   "outputs": [
    {
     "output_type": "execute_result",
     "data": {
      "text/plain": "torch.Size([1, 160, 31])"
     },
     "metadata": {},
     "execution_count": 10
    }
   ],
   "source": [
    "conv3 = nn.Conv1d(100, 160, 10)\n",
    "out = F.relu(conv3(out))\n",
    "out.shape"
   ]
  },
  {
   "cell_type": "code",
   "execution_count": 11,
   "metadata": {},
   "outputs": [
    {
     "output_type": "execute_result",
     "data": {
      "text/plain": "torch.Size([1, 160, 10])"
     },
     "metadata": {},
     "execution_count": 11
    }
   ],
   "source": [
    "pool3 = nn.MaxPool1d(3)\n",
    "out = pool3(out)\n",
    "out.shape"
   ]
  },
  {
   "cell_type": "code",
   "execution_count": 12,
   "metadata": {},
   "outputs": [
    {
     "output_type": "execute_result",
     "data": {
      "text/plain": "torch.Size([1, 160, 1])"
     },
     "metadata": {},
     "execution_count": 12
    }
   ],
   "source": [
    "conv4 = nn.Conv1d(160, 160, 10)\n",
    "out = F.relu(conv4(out))\n",
    "out.shape"
   ]
  },
  {
   "cell_type": "code",
   "execution_count": 13,
   "metadata": {},
   "outputs": [
    {
     "output_type": "execute_result",
     "data": {
      "text/plain": "torch.Size([1, 160, 1])"
     },
     "metadata": {},
     "execution_count": 13
    }
   ],
   "source": [
    "dout = nn.Dropout(p=0.5)\n",
    "out = dout(out)\n",
    "out.shape"
   ]
  },
  {
   "cell_type": "code",
   "execution_count": 15,
   "metadata": {
    "tags": []
   },
   "outputs": [
    {
     "output_type": "execute_result",
     "data": {
      "text/plain": "torch.Size([1, 5])"
     },
     "metadata": {},
     "execution_count": 15
    }
   ],
   "source": [
    "fc = nn.Linear(160*1, 5)\n",
    "out = fc(out.view(1, 160*1))\n",
    "out.shape"
   ]
  },
  {
   "cell_type": "code",
   "execution_count": 16,
   "metadata": {},
   "outputs": [
    {
     "output_type": "execute_result",
     "data": {
      "text/plain": "tensor([[-0.9112,  1.9882,  0.8559,  3.3387,  1.9605]],\n       grad_fn=<AddmmBackward>)"
     },
     "metadata": {},
     "execution_count": 16
    }
   ],
   "source": [
    "out"
   ]
  },
  {
   "cell_type": "code",
   "execution_count": 17,
   "metadata": {
    "tags": []
   },
   "outputs": [
    {
     "output_type": "execute_result",
     "data": {
      "text/plain": "torch.Size([1, 5])"
     },
     "metadata": {},
     "execution_count": 17
    }
   ],
   "source": [
    "smax = nn.Softmax()\n",
    "out = smax(out)\n",
    "out.shape"
   ]
  },
  {
   "cell_type": "code",
   "execution_count": 18,
   "metadata": {},
   "outputs": [
    {
     "output_type": "execute_result",
     "data": {
      "text/plain": "tensor([[0.0089, 0.1610, 0.0519, 0.6215, 0.1567]], grad_fn=<SoftmaxBackward>)"
     },
     "metadata": {},
     "execution_count": 18
    }
   ],
   "source": [
    "out"
   ]
  },
  {
   "cell_type": "code",
   "execution_count": null,
   "metadata": {},
   "outputs": [],
   "source": []
  }
 ]
}