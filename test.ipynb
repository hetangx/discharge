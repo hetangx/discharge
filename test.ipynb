{
 "metadata": {
  "language_info": {
   "codemirror_mode": {
    "name": "ipython",
    "version": 3
   },
   "file_extension": ".py",
   "mimetype": "text/x-python",
   "name": "python",
   "nbconvert_exporter": "python",
   "pygments_lexer": "ipython3",
   "version": 3
  },
  "orig_nbformat": 2,
  "kernelspec": {
   "name": "python_defaultSpec_1595949034204",
   "display_name": "Python 3.8.1 64-bit ('base': conda)"
  }
 },
 "nbformat": 4,
 "nbformat_minor": 2,
 "cells": [
  {
   "cell_type": "code",
   "execution_count": 2,
   "metadata": {},
   "outputs": [],
   "source": [
    "import numpy as np \n",
    "import pandas as pd\n",
    "import tools\n",
    "import os"
   ]
  },
  {
   "cell_type": "code",
   "execution_count": 5,
   "metadata": {},
   "outputs": [],
   "source": [
    "filepath = r\"D:\\Codes\\keyan\\peidian\\train_list.txt\"\n",
    "csv_t = tools.LinkData(filepath)"
   ]
  },
  {
   "cell_type": "code",
   "execution_count": 7,
   "metadata": {},
   "outputs": [],
   "source": [
    "csv_tt = tools.MaxMinMeanStd(csv_t)"
   ]
  },
  {
   "cell_type": "code",
   "execution_count": 8,
   "metadata": {},
   "outputs": [
    {
     "output_type": "execute_result",
     "data": {
      "text/plain": "array([[ 3.60000000e+02,  1.10600000e+03,  3.00000000e+00],\n       [ 1.00000000e+00, -1.20000000e+01,  1.00000000e+00],\n       [ 1.80506225e+02,  3.18386100e+02,  2.00413125e+00],\n       [ 1.04219986e+02,  2.71533171e+02,  8.16405750e-01]])"
     },
     "metadata": {},
     "execution_count": 8
    }
   ],
   "source": [
    "csv_tt"
   ]
  },
  {
   "cell_type": "code",
   "execution_count": null,
   "metadata": {},
   "outputs": [],
   "source": []
  }
 ]
}