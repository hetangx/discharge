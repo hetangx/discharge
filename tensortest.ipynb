{
 "metadata": {
  "language_info": {
   "codemirror_mode": {
    "name": "ipython",
    "version": 3
   },
   "file_extension": ".py",
   "mimetype": "text/x-python",
   "name": "python",
   "nbconvert_exporter": "python",
   "pygments_lexer": "ipython3",
   "version": 3
  },
  "orig_nbformat": 2,
  "kernelspec": {
   "name": "python_defaultSpec_1595730450007",
   "display_name": "Python 3.8.1 64-bit ('base': conda)"
  }
 },
 "nbformat": 4,
 "nbformat_minor": 2,
 "cells": [
  {
   "cell_type": "code",
   "execution_count": 1,
   "metadata": {},
   "outputs": [],
   "source": [
    "import torch\n",
    "from torch import nn"
   ]
  },
  {
   "cell_type": "code",
   "execution_count": 2,
   "metadata": {},
   "outputs": [],
   "source": [
    "input = torch.randn(1,160,1)"
   ]
  },
  {
   "cell_type": "code",
   "execution_count": 3,
   "metadata": {},
   "outputs": [
    {
     "output_type": "execute_result",
     "data": {
      "text/plain": "torch.Size([1, 160, 1])"
     },
     "metadata": {},
     "execution_count": 3
    }
   ],
   "source": [
    "input.shape"
   ]
  },
  {
   "cell_type": "code",
   "execution_count": 4,
   "metadata": {},
   "outputs": [],
   "source": [
    "fc1 = nn.Linear(160*1, 5)"
   ]
  },
  {
   "cell_type": "code",
   "execution_count": 5,
   "metadata": {},
   "outputs": [],
   "source": [
    "input = input.view(1, 160*1)"
   ]
  },
  {
   "cell_type": "code",
   "execution_count": 6,
   "metadata": {},
   "outputs": [],
   "source": [
    "out = fc1(input)"
   ]
  },
  {
   "cell_type": "code",
   "execution_count": 7,
   "metadata": {},
   "outputs": [
    {
     "output_type": "execute_result",
     "data": {
      "text/plain": "tensor([[ 0.1128, -0.7339,  0.2601,  0.4465, -0.2841]],\n       grad_fn=<AddmmBackward>)"
     },
     "metadata": {},
     "execution_count": 7
    }
   ],
   "source": [
    "out"
   ]
  },
  {
   "cell_type": "code",
   "execution_count": 8,
   "metadata": {},
   "outputs": [
    {
     "output_type": "execute_result",
     "data": {
      "text/plain": "tensor([[-0.0592, -0.9560,  0.5984, -0.4369, -0.5701,  0.0995, -1.5882,  0.4101,\n          1.1259, -0.8162,  1.0186,  0.9709, -0.1700,  0.7913,  2.2414,  1.1045,\n         -0.8060,  0.2970, -0.7056, -1.3055, -0.2776,  0.9023, -0.3063, -1.2728,\n          0.5920, -0.5011, -0.3216, -0.4408, -0.3649,  1.3185, -0.3243,  0.0178,\n          0.5647, -0.1849,  1.2550,  0.9674, -0.6805, -0.5628,  0.6255, -0.2226,\n         -0.5841,  1.1440,  0.5190, -0.4520,  0.7656, -0.8974,  0.5933,  0.6417,\n          0.6120, -0.5625, -0.1726,  0.1432,  0.3420, -0.3782, -0.4978,  0.0828,\n          1.4951, -0.0581,  0.6323, -0.3425, -0.1253, -0.5510,  1.4140, -0.1147,\n         -0.5316,  1.5062, -0.2161,  0.8043, -0.0755,  0.6659, -0.6123, -2.0887,\n         -0.4767,  0.2324, -0.2415, -0.0964, -1.8020,  2.7779,  0.6543, -0.1177,\n         -1.5372,  0.3002,  0.0817,  1.3430, -0.4751, -0.8222,  0.3522, -0.7253,\n         -0.1834,  0.6343,  0.3633, -0.0052, -0.0286,  0.1215,  0.6392,  0.2220,\n         -0.5819,  0.3830, -0.7866,  1.0340,  1.0383, -0.1221,  0.1390, -1.7910,\n         -0.5150,  0.1084, -1.8621,  0.4842,  1.2605,  1.1706, -1.4768, -0.9674,\n         -0.0182,  0.7843,  1.1814,  0.6374,  1.3794, -0.3383,  0.6360,  0.1634,\n         -1.7011, -0.2510, -0.0313,  0.5084,  0.1198,  0.5555,  0.9560, -2.4872,\n          1.7959, -1.0265,  2.3656, -2.2554,  2.2357, -1.1416,  1.2454, -1.0578,\n          1.1721,  2.2434,  0.8469,  2.0276, -1.3121,  0.2944, -0.1243, -0.5257,\n         -0.1633,  1.4362,  1.9670,  0.1807, -0.7614,  0.0569, -0.5901,  0.3560,\n         -0.0740, -2.1370,  0.1001,  1.0865,  0.1788,  0.5536,  1.4561, -1.2513]])"
     },
     "metadata": {},
     "execution_count": 8
    }
   ],
   "source": [
    "input"
   ]
  },
  {
   "cell_type": "code",
   "execution_count": 9,
   "metadata": {},
   "outputs": [
    {
     "output_type": "execute_result",
     "data": {
      "text/plain": "torch.Size([1, 160])"
     },
     "metadata": {},
     "execution_count": 9
    }
   ],
   "source": [
    "input.shape"
   ]
  },
  {
   "cell_type": "code",
   "execution_count": null,
   "metadata": {},
   "outputs": [],
   "source": []
  }
 ]
}