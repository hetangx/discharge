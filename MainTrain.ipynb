{
 "metadata": {
  "language_info": {
   "codemirror_mode": {
    "name": "ipython",
    "version": 3
   },
   "file_extension": ".py",
   "mimetype": "text/x-python",
   "name": "python",
   "nbconvert_exporter": "python",
   "pygments_lexer": "ipython3",
   "version": 3
  },
  "orig_nbformat": 2,
  "kernelspec": {
   "name": "python_defaultSpec_1596523847447",
   "display_name": "Python 3.8.1 64-bit ('base': conda)"
  }
 },
 "nbformat": 4,
 "nbformat_minor": 2,
 "cells": [
  {
   "cell_type": "markdown",
   "metadata": {},
   "source": [
    "# 仿照pytorch_tutorial进行训练"
   ]
  },
  {
   "cell_type": "markdown",
   "metadata": {},
   "source": [
    "## 导入包"
   ]
  },
  {
   "cell_type": "code",
   "execution_count": 1,
   "metadata": {},
   "outputs": [],
   "source": [
    "import torch\n",
    "import torch.utils.data as Data\n",
    "import numpy as np \n",
    "import pandas as pd \n",
    "from sklearn import preprocessing\n",
    "import matplotlib.pyplot as plt\n",
    "# 一些函数\n",
    "import tools"
   ]
  },
  {
   "cell_type": "markdown",
   "metadata": {},
   "source": [
    "## 数据预处理器"
   ]
  },
  {
   "cell_type": "code",
   "execution_count": 8,
   "metadata": {
    "tags": []
   },
   "outputs": [
    {
     "output_type": "error",
     "ename": "NameError",
     "evalue": "name 'LinkData' is not defined",
     "traceback": [
      "\u001b[1;31m---------------------------------------------------------------------------\u001b[0m",
      "\u001b[1;31mNameError\u001b[0m                                 Traceback (most recent call last)",
      "\u001b[1;32m<ipython-input-8-856104023648>\u001b[0m in \u001b[0;36m<module>\u001b[1;34m\u001b[0m\n\u001b[0;32m      1\u001b[0m \u001b[0mpath\u001b[0m \u001b[1;33m=\u001b[0m \u001b[1;34mr\"D:\\Codes\\keyan\\peidian\\train_list.txt\"\u001b[0m\u001b[1;33m\u001b[0m\u001b[1;33m\u001b[0m\u001b[0m\n\u001b[1;32m----> 2\u001b[1;33m \u001b[0mx\u001b[0m \u001b[1;33m=\u001b[0m \u001b[0mLinkData\u001b[0m\u001b[1;33m(\u001b[0m\u001b[0mpath\u001b[0m\u001b[1;33m)\u001b[0m\u001b[1;33m\u001b[0m\u001b[1;33m\u001b[0m\u001b[0m\n\u001b[0m\u001b[0;32m      3\u001b[0m \u001b[0mtype\u001b[0m\u001b[1;33m(\u001b[0m\u001b[0mx\u001b[0m\u001b[1;33m)\u001b[0m\u001b[1;33m\u001b[0m\u001b[1;33m\u001b[0m\u001b[0m\n",
      "\u001b[1;31mNameError\u001b[0m: name 'LinkData' is not defined"
     ]
    }
   ],
   "source": [
    "path = r\"D:\\Codes\\keyan\\peidian\\train_list.txt\"\n",
    "mms, stand = tools.SK_scaler(tools.LinkData(path))"
   ]
  },
  {
   "cell_type": "code",
   "execution_count": null,
   "metadata": {},
   "outputs": [],
   "source": [
    "class PdDataset(Data.Dataset): # 创建自己的类：MyDataset,这个类是继承的torch.utils.data.Dataset\n",
    "    def __init__(self, root, csvfile): # 初始化需要传入的参数\n",
    "        super(PdDataset,self).__init__()\n",
    "        fh = open(root + csvfile, 'r') #按照传入的路径和txt名，打开文本读取内容\n",
    "        csvs = [] # 创建空列表\n",
    "        for line in fh: # 按行循环txt文本中的内容\n",
    "            line = line.rstrip() # 删除本行string字符串末尾的指定字符\n",
    "            words = line.split() # 通过指定分隔符对字符串进行切片\n",
    "            csvs.append((words[0],words[1])) # 把txt里的内容读入csv列表保存，[0]为文件路径，[1]是label\n",
    "        \n",
    "        self.csvs = csvs\n",
    "        self.transform = transform\n",
    "        self.target_transform = target_transform\n",
    "        \n",
    "    def __getitem__(self, index): #按照索引读取每个元素的具体内容\n",
    "        fn, label = self.csvs[index] #fn和label分别获得csvs[index]也即是刚才每行中word[0]和word[1]的信息\n",
    "        csv = pd.read_csv(fn, header=None)\n",
    "        csv = tools.ZScoreNormalize(csv.values.astype(float), csv_lkt[2:4])\n",
    "        csv = torch.from_numpy(csv)\n",
    "        csv = csv.permute(1, 0).float()\n",
    "        return csv, label # return返回哪些内容，在训练时循环读取每个batch时就能获得哪些内容\n",
    " \n",
    "    def __len__(self): #返回数据集的长度，也就是多少个文件，要和loader的长度作区分\n",
    "        return len(self.csvs)"
   ]
  }
 ]
}