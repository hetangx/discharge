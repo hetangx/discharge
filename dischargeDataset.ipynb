{
 "cells": [
  {
   "cell_type": "code",
   "execution_count": 1,
   "metadata": {},
   "outputs": [],
   "source": [
    "import torch\n",
    "import torch.utils.data as Data\n",
    "import pandas as pd\n",
    "import os\n",
    "import numpy as np\n",
    "import matplotlib.pyplot as plt\n",
    "from torch.utils.data.dataloader import DataLoader"
   ]
  },
  {
   "cell_type": "code",
   "execution_count": 2,
   "metadata": {},
   "outputs": [],
   "source": [
    "class PdDataset(Data.Dataset): # 创建自己的类：MyDataset,这个类是继承的torch.utils.data.Dataset\n",
    "    def __init__(self, root, csvfile, transform=None, target_transform=None): # 初始化需要传入的参数\n",
    "        super(PdDataset,self).__init__()\n",
    "        fh = open(root + csvfile, 'r') #按照传入的路径和txt名，打开文本读取内容\n",
    "        csvs = [] # 创建空列表\n",
    "        for line in fh: # 按行循环txt文本中的内容\n",
    "            line = line.rstrip() # 删除本行string字符串末尾的指定字符\n",
    "            words = line.split() # 通过指定分隔符对字符串进行切片\n",
    "            csvs.append((words[0],words[1])) # 把txt里的内容读入csv列表保存，[0]为文件路径，[1]是label\n",
    "        \n",
    "        self.csvs = csvs\n",
    "        self.transform = transform\n",
    "        self.target_transform = target_transform\n",
    "        \n",
    "    def __getitem__(self, index): #按照索引读取每个元素的具体内容\n",
    "        fn, label = self.csvs[index] #fn和label分别获得csvs[index]也即是刚才每行中word[0]和word[1]的信息\n",
    "        csv = pd.read_csv(fn, header=None)\n",
    "        csv = torch.from_numpy(csv.values)\n",
    "        csv = csv.permute(1, 0).float()\n",
    "        return csv, label # return返回哪些内容，在训练时循环读取每个batch时就能获得哪些内容\n",
    " \n",
    "    def __len__(self): #返回数据集的长度，也就是多少个文件，要和loader的长度作区分\n",
    "        return len(self.csvs)"
   ]
  },
  {
   "cell_type": "code",
   "execution_count": 3,
   "metadata": {},
   "outputs": [],
   "source": [
    "root = \"d:\\\\Codes\\\\keyan\\\\peidian\\\\\"\n",
    "#根据自己定义的PdDataset创建数据集\n",
    "train_data=PdDataset(root, \"test_list.txt\")\n",
    "test_data=PdDataset(root, \"train_list.txt\")"
   ]
  },
  {
   "cell_type": "code",
   "execution_count": 4,
   "metadata": {
    "tags": []
   },
   "outputs": [],
   "source": [
    "#调用DataLoader创建dataloader，loader的长度是有多少个batch，和batch_size有关\n",
    "train_loader = DataLoader(dataset=train_data, batch_size=4, shuffle=True, num_workers=0)\n",
    "test_loader = DataLoader(dataset=test_data, batch_size=4, shuffle=False, num_workers=0)"
   ]
  },
  {
   "cell_type": "code",
   "execution_count": 5,
   "metadata": {},
   "outputs": [],
   "source": [
    "import torch.nn as nn\n",
    "import torch.nn.functional as F"
   ]
  },
  {
   "cell_type": "code",
   "execution_count": 6,
   "metadata": {},
   "outputs": [],
   "source": [
    "device = torch.device(\"cuda\")"
   ]
  },
  {
   "cell_type": "code",
   "execution_count": 7,
   "metadata": {},
   "outputs": [],
   "source": [
    "class CNNNet(nn.Module):\n",
    "    def __init__(self):\n",
    "        super(CNNNet, self).__init__()\n",
    "        self.conv1 = nn.Conv1d(3, 100, 10)\n",
    "        self.pool1 = nn.MaxPool1d(3)\n",
    "        self.conv2 = nn.Conv1d(100, 100, 10)\n",
    "        self.pool2 = nn.MaxPool1d(3)\n",
    "        self.conv3 = nn.Conv1d(100, 160, 10)\n",
    "        self.pool3 = nn.MaxPool1d(3)\n",
    "        self.conv4 = nn.Conv1d(160, 160, 10)\n",
    "        self.drop1 = nn.Dropout(p=0.5)\n",
    "        self.fc1 = nn.Linear(160*1, 48)\n",
    "        self.fc2 = nn.Linear(48, 32)\n",
    "        self.fc3 = nn.Linear(32, 5)\n",
    "    \n",
    "    def forward(self, x):\n",
    "        x = self.pool1(F.relu(self.conv1(x)))\n",
    "        x = self.pool2(F.relu(self.conv2(x)))\n",
    "        x = self.pool3(F.relu(self.conv3(x)))\n",
    "        x = self.drop1(F.relu(self.conv4(x)))\n",
    "        x = x.view(-1, 160*1)\n",
    "        x = F.relu(self.fc1(x))\n",
    "        x = F.relu(self.fc2(x))\n",
    "        x = self.fc3(x)\n",
    "        return x"
   ]
  },
  {
   "cell_type": "code",
   "execution_count": 8,
   "metadata": {},
   "outputs": [],
   "source": [
    "net = CNNNet()\n",
    "net = net.to(device)"
   ]
  },
  {
   "cell_type": "code",
   "execution_count": 9,
   "metadata": {
    "tags": []
   },
   "outputs": [
    {
     "output_type": "stream",
     "name": "stdout",
     "text": "CNNNet(\n  (conv1): Conv1d(3, 100, kernel_size=(10,), stride=(1,))\n  (pool1): MaxPool1d(kernel_size=3, stride=3, padding=0, dilation=1, ceil_mode=False)\n  (conv2): Conv1d(100, 100, kernel_size=(10,), stride=(1,))\n  (pool2): MaxPool1d(kernel_size=3, stride=3, padding=0, dilation=1, ceil_mode=False)\n  (conv3): Conv1d(100, 160, kernel_size=(10,), stride=(1,))\n  (pool3): MaxPool1d(kernel_size=3, stride=3, padding=0, dilation=1, ceil_mode=False)\n  (conv4): Conv1d(160, 160, kernel_size=(10,), stride=(1,))\n  (drop1): Dropout(p=0.5, inplace=False)\n  (fc1): Linear(in_features=160, out_features=48, bias=True)\n  (fc2): Linear(in_features=48, out_features=32, bias=True)\n  (fc3): Linear(in_features=32, out_features=5, bias=True)\n)\n"
    }
   ],
   "source": [
    "print(net)"
   ]
  },
  {
   "cell_type": "code",
   "execution_count": 10,
   "metadata": {},
   "outputs": [],
   "source": [
    "import torch.optim as optim"
   ]
  },
  {
   "cell_type": "code",
   "execution_count": 11,
   "metadata": {},
   "outputs": [],
   "source": [
    "criterion = nn.CrossEntropyLoss()\n",
    "optimizier = optim.SGD(net.parameters(), lr=0.001, momentum=0.9)"
   ]
  },
  {
   "cell_type": "code",
   "execution_count": 12,
   "metadata": {},
   "outputs": [],
   "source": [
    "def tuple2tensor_char(x):\n",
    "    return torch.tensor(list(map(int, x)))"
   ]
  },
  {
   "cell_type": "code",
   "execution_count": 13,
   "metadata": {
    "tags": []
   },
   "outputs": [
    {
     "output_type": "stream",
     "name": "stdout",
     "text": "[1,     1] loss: 0.001\n[1,     2] loss: 0.001\n[1,     3] loss: 0.001\n[1,     4] loss: 0.002\n[1,     5] loss: 0.001\n[1,     6] loss: 0.001\n[1,     7] loss: 0.001\n[1,     8] loss: 0.001\n[1,     9] loss: 0.001\n[1,    10] loss: 0.001\n[1,    11] loss: 0.001\n[1,    12] loss: 0.001\n[1,    13] loss: 0.001\n[1,    14] loss: 0.000\n[1,    15] loss: 0.001\n[1,    16] loss: 0.001\n[1,    17] loss: 0.001\n[1,    18] loss: 0.001\n[1,    19] loss: 0.001\n[1,    20] loss: 0.001\n[1,    21] loss: 0.001\n[1,    22] loss: 0.001\n[1,    23] loss: 0.001\n[1,    24] loss: 0.001\n[1,    25] loss: 0.001\n[2,     1] loss: 0.001\n[2,     2] loss: 0.001\n[2,     3] loss: 0.001\n[2,     4] loss: 0.001\n[2,     5] loss: 0.001\n[2,     6] loss: 0.001\n[2,     7] loss: 0.001\n[2,     8] loss: 0.001\n[2,     9] loss: 0.001\n[2,    10] loss: 0.001\n[2,    11] loss: 0.001\n[2,    12] loss: 0.001\n[2,    13] loss: 0.001\n[2,    14] loss: 0.001\n[2,    15] loss: 0.001\n[2,    16] loss: 0.001\n[2,    17] loss: 0.001\n[2,    18] loss: 0.001\n[2,    19] loss: 0.001\n[2,    20] loss: 0.001\n[2,    21] loss: 0.000\n[2,    22] loss: 0.001\n[2,    23] loss: 0.001\n[2,    24] loss: 0.001\n[2,    25] loss: 0.001\n[3,     1] loss: 0.001\n[3,     2] loss: 0.001\n[3,     3] loss: 0.001\n[3,     4] loss: 0.001\n[3,     5] loss: 0.001\n[3,     6] loss: 0.001\n[3,     7] loss: 0.001\n[3,     8] loss: 0.001\n[3,     9] loss: 0.000\n[3,    10] loss: 0.001\n[3,    11] loss: 0.001\n[3,    12] loss: 0.001\n[3,    13] loss: 0.001\n[3,    14] loss: 0.001\n[3,    15] loss: 0.001\n[3,    16] loss: 0.001\n[3,    17] loss: 0.001\n[3,    18] loss: 0.001\n[3,    19] loss: 0.001\n[3,    20] loss: 0.001\n[3,    21] loss: 0.001\n[3,    22] loss: 0.001\n[3,    23] loss: 0.001\n[3,    24] loss: 0.001\n[3,    25] loss: 0.001\n[4,     1] loss: 0.001\n[4,     2] loss: 0.000\n[4,     3] loss: 0.001\n[4,     4] loss: 0.001\n[4,     5] loss: 0.001\n[4,     6] loss: 0.000\n[4,     7] loss: 0.001\n[4,     8] loss: 0.001\n[4,     9] loss: 0.001\n[4,    10] loss: 0.001\n[4,    11] loss: 0.001\n[4,    12] loss: 0.001\n[4,    13] loss: 0.001\n[4,    14] loss: 0.001\n[4,    15] loss: 0.001\n[4,    16] loss: 0.001\n[4,    17] loss: 0.000\n[4,    18] loss: 0.001\n[4,    19] loss: 0.001\n[4,    20] loss: 0.001\n[4,    21] loss: 0.001\n[4,    22] loss: 0.001\n[4,    23] loss: 0.001\n[4,    24] loss: 0.001\n[4,    25] loss: 0.001\n[5,     1] loss: 0.001\n[5,     2] loss: 0.001\n[5,     3] loss: 0.001\n[5,     4] loss: 0.001\n[5,     5] loss: 0.001\n[5,     6] loss: 0.001\n[5,     7] loss: 0.001\n[5,     8] loss: 0.001\n[5,     9] loss: 0.001\n[5,    10] loss: 0.001\n[5,    11] loss: 0.001\n[5,    12] loss: 0.001\n[5,    13] loss: 0.001\n[5,    14] loss: 0.001\n[5,    15] loss: 0.001\n[5,    16] loss: 0.001\n[5,    17] loss: 0.001\n[5,    18] loss: 0.000\n[5,    19] loss: 0.001\n[5,    20] loss: 0.000\n[5,    21] loss: 0.001\n[5,    22] loss: 0.001\n[5,    23] loss: 0.000\n[5,    24] loss: 0.001\n[5,    25] loss: 0.001\n[6,     1] loss: 0.001\n[6,     2] loss: 0.000\n[6,     3] loss: 0.001\n[6,     4] loss: 0.001\n[6,     5] loss: 0.001\n[6,     6] loss: 0.000\n[6,     7] loss: 0.001\n[6,     8] loss: 0.001\n[6,     9] loss: 0.001\n[6,    10] loss: 0.000\n[6,    11] loss: 0.000\n[6,    12] loss: 0.001\n[6,    13] loss: 0.001\n[6,    14] loss: 0.001\n[6,    15] loss: 0.001\n[6,    16] loss: 0.001\n[6,    17] loss: 0.001\n[6,    18] loss: 0.001\n[6,    19] loss: 0.001\n[6,    20] loss: 0.000\n[6,    21] loss: 0.000\n[6,    22] loss: 0.000\n[6,    23] loss: 0.001\n[6,    24] loss: 0.000\n[6,    25] loss: 0.001\n[7,     1] loss: 0.001\n[7,     2] loss: 0.001\n[7,     3] loss: 0.001\n[7,     4] loss: 0.001\n[7,     5] loss: 0.000\n[7,     6] loss: 0.001\n[7,     7] loss: 0.001\n[7,     8] loss: 0.001\n[7,     9] loss: 0.001\n[7,    10] loss: 0.000\n[7,    11] loss: 0.001\n[7,    12] loss: 0.000\n[7,    13] loss: 0.001\n[7,    14] loss: 0.000\n[7,    15] loss: 0.000\n[7,    16] loss: 0.001\n[7,    17] loss: 0.000\n[7,    18] loss: 0.001\n[7,    19] loss: 0.000\n[7,    20] loss: 0.000\n[7,    21] loss: 0.000\n[7,    22] loss: 0.001\n[7,    23] loss: 0.001\n[7,    24] loss: 0.001\n[7,    25] loss: 0.000\n[8,     1] loss: 0.000\n[8,     2] loss: 0.000\n[8,     3] loss: 0.001\n[8,     4] loss: 0.001\n[8,     5] loss: 0.000\n[8,     6] loss: 0.001\n[8,     7] loss: 0.000\n[8,     8] loss: 0.000\n[8,     9] loss: 0.000\n[8,    10] loss: 0.001\n[8,    11] loss: 0.000\n[8,    12] loss: 0.001\n[8,    13] loss: 0.000\n[8,    14] loss: 0.000\n[8,    15] loss: 0.001\n[8,    16] loss: 0.000\n[8,    17] loss: 0.000\n[8,    18] loss: 0.001\n[8,    19] loss: 0.000\n[8,    20] loss: 0.001\n[8,    21] loss: 0.001\n[8,    22] loss: 0.001\n[8,    23] loss: 0.001\n[8,    24] loss: 0.000\n[8,    25] loss: 0.000\n[9,     1] loss: 0.001\n[9,     2] loss: 0.000\n[9,     3] loss: 0.001\n[9,     4] loss: 0.000\n[9,     5] loss: 0.000\n[9,     6] loss: 0.000\n[9,     7] loss: 0.000\n[9,     8] loss: 0.000\n[9,     9] loss: 0.000\n[9,    10] loss: 0.000\n[9,    11] loss: 0.001\n[9,    12] loss: 0.000\n[9,    13] loss: 0.000\n[9,    14] loss: 0.000\n[9,    15] loss: 0.000\n[9,    16] loss: 0.000\n[9,    17] loss: 0.000\n[9,    18] loss: 0.000\n[9,    19] loss: 0.000\n[9,    20] loss: 0.000\n[9,    21] loss: 0.000\n[9,    22] loss: 0.000\n[9,    23] loss: 0.000\n[9,    24] loss: 0.000\n[9,    25] loss: 0.000\n[10,     1] loss: 0.000\n[10,     2] loss: 0.000\n[10,     3] loss: 0.000\n[10,     4] loss: 0.000\n[10,     5] loss: 0.001\n[10,     6] loss: 0.001\n[10,     7] loss: 0.000\n[10,     8] loss: 0.000\n[10,     9] loss: 0.001\n[10,    10] loss: 0.001\n[10,    11] loss: 0.001\n[10,    12] loss: 0.000\n[10,    13] loss: 0.000\n[10,    14] loss: 0.000\n[10,    15] loss: 0.001\n[10,    16] loss: 0.000\n[10,    17] loss: 0.000\n[10,    18] loss: 0.000\n[10,    19] loss: 0.001\n[10,    20] loss: 0.001\n[10,    21] loss: 0.000\n[10,    22] loss: 0.000\n[10,    23] loss: 0.000\n[10,    24] loss: 0.001\n[10,    25] loss: 0.000\nfinish\n"
    }
   ],
   "source": [
    "for epoch in range(10):\n",
    "    running_loss = 0.0\n",
    "    for i, data in enumerate(train_loader, 0):\n",
    "        inputs, labels = data\n",
    "        inputs = inputs.to(device)\n",
    "        labels = tuple2tensor_char(labels)\n",
    "        labels = labels.to(device)\n",
    "        optimizier.zero_grad()\n",
    "\n",
    "        outputs = net(inputs)\n",
    "        loss = criterion(outputs, labels)\n",
    "        loss.backward()\n",
    "        optimizier.step()\n",
    "\n",
    "        running_loss += loss.item()\n",
    "\n",
    "        print('[%d, %5d] loss: %.3f' %(epoch + 1, i + 1, running_loss / 2000))\n",
    "        running_loss = 0.0\n",
    "    \n",
    "print('finish')"
   ]
  },
  {
   "cell_type": "code",
   "execution_count": 14,
   "metadata": {
    "tags": []
   },
   "outputs": [
    {
     "output_type": "stream",
     "name": "stdout",
     "text": "Accuracy of the network on the test csvs: 65 %\n"
    }
   ],
   "source": [
    "correct = 0\n",
    "total = 0\n",
    "with torch.no_grad():\n",
    "    for data in test_loader:\n",
    "        csvs, labels = data\n",
    "        csvs = csvs.to(device)\n",
    "        labels = tuple2tensor_char(labels)\n",
    "        labels = labels.to(device)\n",
    "        outputs = net(csvs)\n",
    "        _, predicted = torch.max(outputs.data, 1)\n",
    "        total += labels.size(0)\n",
    "        correct += (predicted == labels).sum().item()\n",
    " \n",
    "print('Accuracy of the network on the test csvs: %d %%' % (100 * correct / total))"
   ]
  },
  {
   "cell_type": "code",
   "execution_count": 15,
   "metadata": {
    "tags": []
   },
   "outputs": [
    {
     "output_type": "stream",
     "name": "stdout",
     "text": "Accuracy of     0 : 62 %\nAccuracy of     1 : 100 %\nAccuracy of     2 :  0 %\nAccuracy of     3 : 71 %\nAccuracy of     4 : 91 %\n"
    }
   ],
   "source": [
    "class_correct = list(0. for i in range(5))\n",
    "class_total = list(0. for i in range(5))\n",
    "with torch.no_grad():\n",
    "    for data in test_loader:\n",
    "        csvs, labels = data\n",
    "        csvs = csvs.to(device)\n",
    "        labels = tuple2tensor_char(labels)\n",
    "        labels = labels.to(device)\n",
    "        outputs = net(csvs)\n",
    "        _, predicted = torch.max(outputs, 1)\n",
    "        c = (predicted == labels).squeeze()\n",
    "        for i in range(4):\n",
    "            label = labels[i]\n",
    "            class_correct[label] += c[i].item()\n",
    "            class_total[label] += 1\n",
    " \n",
    "classes = ('0', '1', '2', '3', '4')\n",
    "for i in range(5):\n",
    "    print('Accuracy of %5s : %2d %%' % (classes[i], 100 * class_correct[i] / class_total[i]))"
   ]
  },
  {
   "cell_type": "code",
   "execution_count": null,
   "metadata": {},
   "outputs": [],
   "source": []
  }
 ],
 "metadata": {
  "language_info": {
   "codemirror_mode": {
    "name": "ipython",
    "version": 3
   },
   "file_extension": ".py",
   "mimetype": "text/x-python",
   "name": "python",
   "nbconvert_exporter": "python",
   "pygments_lexer": "ipython3",
   "version": 3
  },
  "orig_nbformat": 2,
  "kernelspec": {
   "name": "python_defaultSpec_1595730402060",
   "display_name": "Python 3.8.1 64-bit ('base': conda)"
  }
 },
 "nbformat": 4,
 "nbformat_minor": 2
}